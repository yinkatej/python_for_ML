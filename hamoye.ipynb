{
 "cells": [
  {
   "cell_type": "code",
   "execution_count": 2,
   "metadata": {},
   "outputs": [
    {
     "name": "stdout",
     "output_type": "stream",
     "text": [
      "Y2014    209460.54\n",
      "Y2017    269617.53\n",
      "dtype: float64\n"
     ]
    }
   ],
   "source": [
    "# 11\n",
    "import pandas as pd\n",
    "df = pd.read_csv('FoodBalanceSheets_E_Africa_NOFLAG.csv')\n",
    "\n",
    "print(df.loc[df['Item']=='Animal fats', ['Y2014', 'Y2017']].sum())\n"
   ]
  },
  {
   "cell_type": "code",
   "execution_count": 5,
   "metadata": {},
   "outputs": [
    {
     "name": "stdout",
     "output_type": "stream",
     "text": [
      "Y2015    135.24\n",
      "dtype: float64\n",
      "Y2015    1603.4\n",
      "dtype: float64\n"
     ]
    }
   ],
   "source": [
    "# 12\n",
    "print( round(df.loc[:, ['Y2015']].mean(), 2))\n",
    "print(round(df.loc[:, ['Y2015']].std(), 2))"
   ]
  },
  {
   "cell_type": "code",
   "execution_count": 9,
   "metadata": {},
   "outputs": [
    {
     "data": {
      "text/plain": [
       "Element\n",
       "Domestic supply quantity                  5295\n",
       "Export Quantity                           4403\n",
       "Fat supply quantity (g/capita/day)        5023\n",
       "Feed                                      1319\n",
       "Food                                      4941\n",
       "Food supply (kcal/capita/day)             5014\n",
       "Food supply quantity (kg/capita/yr)       4905\n",
       "Import Quantity                           5139\n",
       "Losses                                    2009\n",
       "Other uses (non-food)                     1732\n",
       "Processing                                2010\n",
       "Production                                3881\n",
       "Protein supply quantity (g/capita/day)    5023\n",
       "Residuals                                 4655\n",
       "Seed                                       762\n",
       "Stock Variation                           4232\n",
       "Total Population - Both sexes               45\n",
       "Tourist consumption                        555\n",
       "Name: Element, dtype: int64"
      ]
     },
     "execution_count": 9,
     "metadata": {},
     "output_type": "execute_result"
    }
   ],
   "source": [
    "df.groupby('Element')['Element'].count()"
   ]
  },
  {
   "cell_type": "code",
   "execution_count": 13,
   "metadata": {},
   "outputs": [
    {
     "name": "stdout",
     "output_type": "stream",
     "text": [
      "Y2016    3970.228013\n",
      "dtype: float64\n"
     ]
    }
   ],
   "source": [
    "# 13\n",
    "nulFeilds = df.loc[:, ['Y2016']].isnull()\n",
    "no_of_nulls = nulFeilds.loc[nulFeilds['Y2016']==True].count()\n",
    "percentage_of_nulls = len(df)/no_of_nulls * 100\n",
    "print(percentage_of_nulls)"
   ]
  },
  {
   "cell_type": "code",
   "execution_count": 23,
   "metadata": {},
   "outputs": [
    {
     "name": "stdout",
     "output_type": "stream",
     "text": [
      " Y2014 : 0.02445681949522173 \n",
      "0.02445681949522173\n"
     ]
    }
   ],
   "source": [
    "# 14\n",
    "correlation ={}\n",
    "correlation['Y2014'] = df['Element Code'].corr(df['Y2014'])\n",
    "correlation['Y2015'] = df['Element Code'].corr(df['Y2015'])\n",
    "correlation['Y2016'] = df['Element Code'].corr(df['Y2016'])\n",
    "correlation['Y2017'] = df['Element Code'].corr(df['Y2017'])\n",
    "correlation['Y2018'] = df['Element Code'].corr(df['Y2018'])\n",
    "\n",
    "max_year = max(correlation.values())\n",
    "for item, val in correlation.items():\n",
    "    if val == max_year:\n",
    "        print(f' {item:} : {val} ')\n",
    "\n",
    "   "
   ]
  },
  {
   "cell_type": "code",
   "execution_count": 41,
   "metadata": {},
   "outputs": [
    {
     "data": {
      "text/plain": [
       "294559.09"
      ]
     },
     "execution_count": 41,
     "metadata": {},
     "output_type": "execute_result"
    }
   ],
   "source": [
    "# 15\n",
    "high_Import = df.loc[df['Element']== 'Import Quantity', 'Y2014':  'Y2018'].sum()\n",
    "high_Import.max()"
   ]
  }
 ],
 "metadata": {
  "kernelspec": {
   "display_name": "Python 3.9.7 ('base')",
   "language": "python",
   "name": "python3"
  },
  "language_info": {
   "codemirror_mode": {
    "name": "ipython",
    "version": 3
   },
   "file_extension": ".py",
   "mimetype": "text/x-python",
   "name": "python",
   "nbconvert_exporter": "python",
   "pygments_lexer": "ipython3",
   "version": "3.9.12"
  },
  "orig_nbformat": 4,
  "vscode": {
   "interpreter": {
    "hash": "ad2bdc8ecc057115af97d19610ffacc2b4e99fae6737bb82f5d7fb13d2f2c186"
   }
  }
 },
 "nbformat": 4,
 "nbformat_minor": 2
}
